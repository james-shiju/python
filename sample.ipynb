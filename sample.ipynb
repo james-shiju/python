{
 "cells": [
  {
   "cell_type": "code",
   "execution_count": 1,
   "metadata": {},
   "outputs": [
    {
     "name": "stdout",
     "output_type": "stream",
     "text": [
      "   roll no  total marks  rank  english  tamil  maths  science  social  \\\n",
      "0      1.0        345.0   4.0     69.0   69.0   69.0     69.0    69.0   \n",
      "1      2.0        405.0   2.0     81.0   81.0   81.0     81.0    81.0   \n",
      "2      3.0        280.0   5.0     56.0   56.0   56.0     56.0    56.0   \n",
      "3      4.0        480.0   1.0     96.0   96.0   96.0     96.0    96.0   \n",
      "4      5.0        400.0   3.0     80.0   80.0   80.0     80.0    80.0   \n",
      "5      NaN          NaN   NaN      NaN    NaN    NaN      NaN     NaN   \n",
      "6      NaN          NaN   NaN      NaN    NaN    NaN      NaN     NaN   \n",
      "\n",
      "   Unnamed: 8                                         Unnamed: 9  \n",
      "0         NaN                                                NaN  \n",
      "1         NaN                                                NaN  \n",
      "2         NaN                                                NaN  \n",
      "3         NaN                                                NaN  \n",
      "4         NaN                                                NaN  \n",
      "5         NaN                                                NaN  \n",
      "6         NaN  https://datatofish.com/multiple-linear-regress...  \n"
     ]
    }
   ],
   "source": [
    "import pandas as pd\n",
    "import seaborn as sns\n",
    "import matplotlib.pyplot as plt\n",
    "from sklearn.ensemble import RandomForestClassifier\n",
    "from sklearn.svm import SVC\n",
    "from sklearn import svm\n",
    "from sklearn.neural_network import MLPClassifier\n",
    "from sklearn.metrics import confusion_matrix,classification_report\n",
    "from sklearn.preprocessing import StandardScaler, LabelEncoder\n",
    "from sklearn.model_selection import train_test_split\n",
    "%matplotlib inline\n",
    "df = pd.read_excel (r'C:\\Users\\James\\Desktop\\first.xlsx')\n",
    "print(df)"
   ]
  },
  {
   "cell_type": "code",
   "execution_count": 2,
   "metadata": {},
   "outputs": [
    {
     "name": "stdout",
     "output_type": "stream",
     "text": [
      "   roll no  total marks  rank  english  tamil  maths  science  social  \\\n",
      "0      1.0        345.0   4.0     69.0   69.0   69.0     69.0    69.0   \n",
      "1      2.0        405.0   2.0     81.0   81.0   81.0     81.0    81.0   \n",
      "2      3.0        280.0   5.0     56.0   56.0   56.0     56.0    56.0   \n",
      "3      4.0        480.0   1.0     96.0   96.0   96.0     96.0    96.0   \n",
      "4      5.0        400.0   3.0     80.0   80.0   80.0     80.0    80.0   \n",
      "\n",
      "   Unnamed: 8 Unnamed: 9  \n",
      "0         NaN        NaN  \n",
      "1         NaN        NaN  \n",
      "2         NaN        NaN  \n",
      "3         NaN        NaN  \n",
      "4         NaN        NaN  \n"
     ]
    }
   ],
   "source": [
    "print(df.head())"
   ]
  },
  {
   "cell_type": "code",
   "execution_count": 3,
   "metadata": {},
   "outputs": [
    {
     "name": "stdout",
     "output_type": "stream",
     "text": [
      "<class 'pandas.core.frame.DataFrame'>\n",
      "RangeIndex: 5 entries, 0 to 4\n",
      "Data columns (total 8 columns):\n",
      "roll no        5 non-null int64\n",
      "total marks    5 non-null int64\n",
      "rank           5 non-null int64\n",
      "english        5 non-null int64\n",
      "tamil          5 non-null int64\n",
      "maths          5 non-null int64\n",
      "science        5 non-null int64\n",
      "social         5 non-null int64\n",
      "dtypes: int64(8)\n",
      "memory usage: 448.0 bytes\n"
     ]
    }
   ],
   "source": [
    "df.info()"
   ]
  },
  {
   "cell_type": "code",
   "execution_count": 4,
   "metadata": {},
   "outputs": [
    {
     "data": {
      "text/plain": [
       "roll no        0\n",
       "total marks    0\n",
       "rank           0\n",
       "english        0\n",
       "tamil          0\n",
       "maths          0\n",
       "science        0\n",
       "social         0\n",
       "dtype: int64"
      ]
     },
     "execution_count": 4,
     "metadata": {},
     "output_type": "execute_result"
    }
   ],
   "source": [
    "df.isnull().sum()"
   ]
  },
  {
   "cell_type": "code",
   "execution_count": 5,
   "metadata": {},
   "outputs": [
    {
     "data": {
      "text/plain": [
       "<matplotlib.axes._subplots.AxesSubplot at 0xb9f67c8>"
      ]
     },
     "execution_count": 5,
     "metadata": {},
     "output_type": "execute_result"
    },
    {
     "data": {
      "image/png": "[encoded data removed]",
      "text/plain": [
       "<Figure size 432x288 with 1 Axes>"
      ]
     },
     "metadata": {
      "needs_background": "light"
     },
     "output_type": "display_data"
    }
   ],
   "source": [
    "sns.countplot(df['social'])"
   ]
  },
  {
   "cell_type": "code",
   "execution_count": 12,
   "metadata": {},
   "outputs": [
    {
     "name": "stdout",
     "output_type": "stream",
     "text": [
      "   roll no  total marks  rank  english  tamil  maths  science  social\n",
      "0        1          345     4       69     69     69       69      69\n",
      "1        2          405     2       81     81     81       81      81\n",
      "2        3          280     5       56     56     56       56      56\n",
      "3        4          480     1       96     96     96       96      96\n",
      "4        5          400     3       80     80     80       80      80\n"
     ]
    }
   ],
   "source": [
    "#new way to implement excel file using tkinter\n",
    "\n",
    "import tkinter as tk\n",
    "from tkinter import filedialog\n",
    "import pandas as pd\n",
    "\n",
    "root= tk.Tk()\n",
    "\n",
    "canvas1 = tk.Canvas(root, width = 300, height = 300, bg = 'lightsteelblue')\n",
    "canvas1.pack()\n",
    "\n",
    "def getExcel ():\n",
    "    global df\n",
    "    \n",
    "    import_file_path = filedialog.askopenfilename()\n",
    "    df = pd.read_excel (import_file_path)\n",
    "    print (df)\n",
    "    \n",
    "browseButton_Excel = tk.Button(text='Import Excel File', command=getExcel, bg='green', fg='white', font=('helvetica', 12, 'bold'))\n",
    "canvas1.create_window(150, 150, window=browseButton_Excel)\n",
    "\n",
    "root.mainloop()"
   ]
  },
  {
   "cell_type": "code",
   "execution_count": 18,
   "metadata": {},
   "outputs": [
    {
     "name": "stdout",
     "output_type": "stream",
     "text": [
      "    Year  Month  Interest_Rate  Unemployment_Rate  Stock_Index_Price\n",
      "0   2017     12           2.75                5.3               1464\n",
      "1   2017     11           2.50                5.3               1394\n",
      "2   2017     10           2.50                5.3               1357\n",
      "3   2017      9           2.50                5.3               1293\n",
      "4   2017      8           2.50                5.4               1256\n",
      "5   2017      7           2.50                5.6               1254\n",
      "6   2017      6           2.50                5.5               1234\n",
      "7   2017      5           2.25                5.5               1195\n",
      "8   2017      4           2.25                5.5               1159\n",
      "9   2017      3           2.25                5.6               1167\n",
      "10  2017      2           2.00                5.7               1130\n",
      "11  2017      1           2.00                5.9               1075\n",
      "12  2016     12           2.00                6.0               1047\n",
      "13  2016     11           1.75                5.9                965\n",
      "14  2016     10           1.75                5.8                943\n",
      "15  2016      9           1.75                6.1                958\n",
      "16  2016      8           1.75                6.2                971\n",
      "17  2016      7           1.75                6.1                949\n",
      "18  2016      6           1.75                6.1                884\n",
      "19  2016      5           1.75                6.1                866\n",
      "20  2016      4           1.75                5.9                876\n",
      "21  2016      3           1.75                6.2                822\n",
      "22  2016      2           1.75                6.2                704\n",
      "23  2016      1           1.75                6.1                719\n"
     ]
    }
   ],
   "source": [
    "# collect data by writing a program and load to a excel file \n",
    "from pandas import DataFrame\n",
    "from sklearn import linear_model\n",
    "import statsmodels.api as sm\n",
    "\n",
    "Stock_Market = {'Year': [2017,2017,2017,2017,2017,2017,2017,2017,2017,2017,2017,2017,2016,2016,2016,2016,2016,2016,2016,2016,2016,2016,2016,2016],\n",
    "                'Month': [12, 11,10,9,8,7,6,5,4,3,2,1,12,11,10,9,8,7,6,5,4,3,2,1],\n",
    "                'Interest_Rate': [2.75,2.5,2.5,2.5,2.5,2.5,2.5,2.25,2.25,2.25,2,2,2,1.75,1.75,1.75,1.75,1.75,1.75,1.75,1.75,1.75,1.75,1.75],\n",
    "                'Unemployment_Rate': [5.3,5.3,5.3,5.3,5.4,5.6,5.5,5.5,5.5,5.6,5.7,5.9,6,5.9,5.8,6.1,6.2,6.1,6.1,6.1,5.9,6.2,6.2,6.1],\n",
    "                'Stock_Index_Price': [1464,1394,1357,1293,1256,1254,1234,1195,1159,1167,1130,1075,1047,965,943,958,971,949,884,866,876,822,704,719]        \n",
    "                }\n",
    "\n",
    "df = DataFrame(Stock_Market,columns=['Year','Month','Interest_Rate','Unemployment_Rate','Stock_Index_Price']) \n",
    "\n",
    "print (df)"
   ]
  },
  {
   "cell_type": "code",
   "execution_count": 7,
   "metadata": {},
   "outputs": [
    {
     "data": {
      "image/png": "[encoded data removed]",
      "text/plain": [
       "<Figure size 432x288 with 1 Axes>"
      ]
     },
     "metadata": {
      "needs_background": "light"
     },
     "output_type": "display_data"
    },
    {
     "data": {
      "image/png": "[encoded data removed]",
      "text/plain": [
       "<Figure size 432x288 with 1 Axes>"
      ]
     },
     "metadata": {
      "needs_background": "light"
     },
     "output_type": "display_data"
    }
   ],
   "source": [
    "df = DataFrame(Stock_Market,columns=['Year','Month','Interest_Rate','Unemployment_Rate','Stock_Index_Price'])\n",
    " \n",
    "plt.scatter(df['Interest_Rate'], df['Stock_Index_Price'], color='red')\n",
    "plt.title('Stock Index Price Vs Interest Rate', fontsize=14)\n",
    "plt.xlabel('Interest Rate', fontsize=20)\n",
    "plt.ylabel('Stock Index Price', fontsize=14)\n",
    "plt.grid(True)\n",
    "plt.show()\n",
    " \n",
    "plt.scatter(df['Unemployment_Rate'], df['Stock_Index_Price'], color='green')\n",
    "plt.title('Stock Index Price Vs Unemployment Rate', fontsize=14)\n",
    "plt.xlabel('Unemployment Rate', fontsize=14)\n",
    "plt.ylabel('Stock Index Price', fontsize=14)\n",
    "plt.grid(False)\n",
    "plt.show()"
   ]
  },
  {
   "cell_type": "code",
   "execution_count": 10,
   "metadata": {},
   "outputs": [
    {
     "name": "stdout",
     "output_type": "stream",
     "text": [
      "Intercept: \n",
      " 1798.4039776258546\n",
      "Coefficients: \n",
      " [ 345.54008701 -250.14657137]\n",
      "Predicted Stock Index Price: \n",
      " [1422.86238865]\n"
     ]
    },
    {
     "name": "stderr",
     "output_type": "stream",
     "text": [
      "C:\\Users\\James\\AppData\\Local\\Continuum\\anaconda3\\lib\\site-packages\\numpy\\core\\fromnumeric.py:2389: FutureWarning: Method .ptp is deprecated and will be removed in a future version. Use numpy.ptp instead.\n",
      "  return ptp(axis=axis, out=out, **kwargs)\n"
     ]
    },
    {
     "name": "stdout",
     "output_type": "stream",
     "text": [
      "                            OLS Regression Results                            \n",
      "==============================================================================\n",
      "Dep. Variable:      Stock_Index_Price   R-squared:                       0.898\n",
      "Model:                            OLS   Adj. R-squared:                  0.888\n",
      "Method:                 Least Squares   F-statistic:                     92.07\n",
      "Date:                Tue, 03 Mar 2020   Prob (F-statistic):           4.04e-11\n",
      "Time:                        18:15:39   Log-Likelihood:                -134.61\n",
      "No. Observations:                  24   AIC:                             275.2\n",
      "Df Residuals:                      21   BIC:                             278.8\n",
      "Df Model:                           2                                         \n",
      "Covariance Type:            nonrobust                                         \n",
      "=====================================================================================\n",
      "                        coef    std err          t      P>|t|      [0.025      0.975]\n",
      "-------------------------------------------------------------------------------------\n",
      "const              1798.4040    899.248      2.000      0.059     -71.685    3668.493\n",
      "Interest_Rate       345.5401    111.367      3.103      0.005     113.940     577.140\n",
      "Unemployment_Rate  -250.1466    117.950     -2.121      0.046    -495.437      -4.856\n",
      "==============================================================================\n",
      "Omnibus:                        2.691   Durbin-Watson:                   0.530\n",
      "Prob(Omnibus):                  0.260   Jarque-Bera (JB):                1.551\n",
      "Skew:                          -0.612   Prob(JB):                        0.461\n",
      "Kurtosis:                       3.226   Cond. No.                         394.\n",
      "==============================================================================\n",
      "\n",
      "Warnings:\n",
      "[1] Standard Errors assume that the covariance matrix of the errors is correctly specified.\n"
     ]
    }
   ],
   "source": [
    "import statsmodels.api as sm\n",
    "df = DataFrame(Stock_Market,columns=['Year','Month','Interest_Rate','Unemployment_Rate','Stock_Index_Price'])\n",
    "\n",
    "X = df[['Interest_Rate','Unemployment_Rate']] # here we have 2 variables for multiple regression. If you just want to use one variable for simple linear regression, then use X = df['Interest_Rate'] for example.Alternatively, you may add additional variables within the brackets\n",
    "Y = df['Stock_Index_Price']\n",
    " \n",
    "# with sklearn\n",
    "regr = linear_model.LinearRegression()\n",
    "regr.fit(X, Y)\n",
    "\n",
    "print('Intercept: \\n', regr.intercept_)\n",
    "print('Coefficients: \\n', regr.coef_)\n",
    "\n",
    "# prediction with sklearn\n",
    "New_Interest_Rate = 2.75\n",
    "New_Unemployment_Rate = 5.3\n",
    "print ('Predicted Stock Index Price: \\n', regr.predict([[New_Interest_Rate ,New_Unemployment_Rate]]))\n",
    "\n",
    "# with statsmodels\n",
    "X = sm.add_constant(X) # adding a constant\n",
    " \n",
    "model = sm.OLS(Y, X).fit()\n",
    "predictions = model.predict(X) \n",
    " \n",
    "print_model = model.summary()\n",
    "print(print_model)"
   ]
  },
  {
   "cell_type": "code",
   "execution_count": 9,
   "metadata": {},
   "outputs": [
    {
     "name": "stderr",
     "output_type": "stream",
     "text": [
      "No handles with labels found to put in legend.\n",
      "No handles with labels found to put in legend.\n"
     ]
    },
    {
     "name": "stdout",
     "output_type": "stream",
     "text": [
      "Intercept: \n",
      " 1798.4039776258546\n",
      "Coefficients: \n",
      " [ 345.54008701 -250.14657137]\n"
     ]
    }
   ],
   "source": [
    "from pandas import DataFrame\n",
    "from sklearn import linear_model\n",
    "import tkinter as tk \n",
    "import matplotlib.pyplot as plt\n",
    "from matplotlib.backends.backend_tkagg import FigureCanvasTkAgg\n",
    "\n",
    "Stock_Market = {'Year': [2017,2017,2017,2017,2017,2017,2017,2017,2017,2017,2017,2017,2016,2016,2016,2016,2016,2016,2016,2016,2016,2016,2016,2016],\n",
    "                'Month': [12, 11,10,9,8,7,6,5,4,3,2,1,12,11,10,9,8,7,6,5,4,3,2,1],\n",
    "                'Interest_Rate': [2.75,2.5,2.5,2.5,2.5,2.5,2.5,2.25,2.25,2.25,2,2,2,1.75,1.75,1.75,1.75,1.75,1.75,1.75,1.75,1.75,1.75,1.75],\n",
    "                'Unemployment_Rate': [5.3,5.3,5.3,5.3,5.4,5.6,5.5,5.5,5.5,5.6,5.7,5.9,6,5.9,5.8,6.1,6.2,6.1,6.1,6.1,5.9,6.2,6.2,6.1],\n",
    "                'Stock_Index_Price': [1464,1394,1357,1293,1256,1254,1234,1195,1159,1167,1130,1075,1047,965,943,958,971,949,884,866,876,822,704,719]        \n",
    "                }\n",
    "\n",
    "df = DataFrame(Stock_Market,columns=['Year','Month','Interest_Rate','Unemployment_Rate','Stock_Index_Price']) \n",
    "\n",
    "X = df[['Interest_Rate','Unemployment_Rate']].astype(float) # here we have 2 input variables for multiple regression. If you just want to use one variable for simple linear regression, then use X = df['Interest_Rate'] for example.Alternatively, you may add additional variables within the brackets\n",
    "Y = df['Stock_Index_Price'].astype(float) # output variable (what we are trying to predict)\n",
    "\n",
    "# with sklearn\n",
    "regr = linear_model.LinearRegression()\n",
    "regr.fit(X, Y)\n",
    "\n",
    "print('Intercept: \\n', regr.intercept_)\n",
    "print('Coefficients: \\n', regr.coef_)\n",
    "\n",
    "# tkinter GUI\n",
    "root= tk.Tk()\n",
    "\n",
    "canvas1 = tk.Canvas(root, width = 500, height = 300)\n",
    "canvas1.pack()\n",
    "\n",
    "# with sklearn\n",
    "Intercept_result = ('Intercept: ', regr.intercept_)\n",
    "label_Intercept = tk.Label(root, text=Intercept_result, justify = 'center')\n",
    "canvas1.create_window(260, 220, window=label_Intercept)\n",
    "\n",
    "# with sklearn\n",
    "Coefficients_result  = ('Coefficients: ', regr.coef_)\n",
    "label_Coefficients = tk.Label(root, text=Coefficients_result, justify = 'center')\n",
    "canvas1.create_window(260, 240, window=label_Coefficients)\n",
    "\n",
    "# New_Interest_Rate label and input box\n",
    "label1 = tk.Label(root, text='Type Interest Rate: ')\n",
    "canvas1.create_window(100, 100, window=label1)\n",
    "\n",
    "entry1 = tk.Entry (root) # create 1st entry box\n",
    "canvas1.create_window(270, 100, window=entry1)\n",
    "\n",
    "# New_Unemployment_Rate label and input box\n",
    "label2 = tk.Label(root, text=' Type Unemployment Rate: ')\n",
    "canvas1.create_window(120, 120, window=label2)\n",
    "\n",
    "entry2 = tk.Entry (root) # create 2nd entry box\n",
    "canvas1.create_window(270, 120, window=entry2)\n",
    "\n",
    "def values(): \n",
    "    global New_Interest_Rate #our 1st input variable\n",
    "    New_Interest_Rate = float(entry1.get()) \n",
    "    \n",
    "    global New_Unemployment_Rate #our 2nd input variable\n",
    "    New_Unemployment_Rate = float(entry2.get()) \n",
    "    \n",
    "    Prediction_result  = ('Predicted Stock Index Price: ', regr.predict([[New_Interest_Rate ,New_Unemployment_Rate]]))\n",
    "    label_Prediction = tk.Label(root, text= Prediction_result, bg='orange')\n",
    "    canvas1.create_window(260, 280, window=label_Prediction)\n",
    "    \n",
    "button1 = tk.Button (root, text='Predict Stock Index Price',command=values, bg='orange') # button to call the 'values' command above \n",
    "canvas1.create_window(270, 150, window=button1)\n",
    " \n",
    "#plot 1st scatter \n",
    "figure3 = plt.Figure(figsize=(5,4), dpi=100)\n",
    "ax3 = figure3.add_subplot(111)\n",
    "ax3.scatter(df['Interest_Rate'].astype(float),df['Stock_Index_Price'].astype(float), color = 'r')\n",
    "scatter3 = FigureCanvasTkAgg(figure3, root) \n",
    "scatter3.get_tk_widget().pack(side=tk.RIGHT, fill=tk.BOTH)\n",
    "ax3.legend() \n",
    "ax3.set_xlabel('Interest Rate')\n",
    "ax3.set_title('Interest Rate Vs. Stock Index Price')\n",
    "\n",
    "#plot 2nd scatter \n",
    "figure4 = plt.Figure(figsize=(5,4), dpi=100)\n",
    "ax4 = figure4.add_subplot(111)\n",
    "ax4.scatter(df['Unemployment_Rate'].astype(float),df['Stock_Index_Price'].astype(float), color = 'g')\n",
    "scatter4 = FigureCanvasTkAgg(figure4, root) \n",
    "scatter4.get_tk_widget().pack(side=tk.RIGHT, fill=tk.BOTH)\n",
    "ax4.legend() \n",
    "ax4.set_xlabel('Unemployment_Rate')\n",
    "ax4.set_title('Unemployment_Rate Vs. Stock Index Price')\n",
    "\n",
    "root.mainloop()"
   ]
  },
  {
   "cell_type": "code",
   "execution_count": 11,
   "metadata": {},
   "outputs": [
    {
     "name": "stdout",
     "output_type": "stream",
     "text": [
      "Automatically created module for IPython interactive environment\n",
      "Coefficients: \n",
      " [938.23786125]\n",
      "Mean squared error: 2548.07\n",
      "Coefficient of determination: 0.47\n"
     ]
    },
    {
     "data": {
      "image/png": "[encoded data removed]",
      "text/plain": [
       "<Figure size 432x288 with 1 Axes>"
      ]
     },
     "metadata": {},
     "output_type": "display_data"
    }
   ],
   "source": [
    "print(__doc__)\n",
    "\n",
    "\n",
    "# Code source: Jaques Grobler\n",
    "# License: BSD 3 clause\n",
    "\n",
    "\n",
    "import matplotlib.pyplot as plt\n",
    "import numpy as np\n",
    "from sklearn import datasets, linear_model\n",
    "from sklearn.metrics import mean_squared_error, r2_score\n",
    "\n",
    "# Load the diabetes dataset\n",
    "diabetes_X, diabetes_y = datasets.load_diabetes(return_X_y=True)\n",
    "\n",
    "# Use only one feature\n",
    "diabetes_X = diabetes_X[:, np.newaxis, 2]\n",
    "\n",
    "# Split the data into training/testing sets\n",
    "diabetes_X_train = diabetes_X[:-20]\n",
    "diabetes_X_test = diabetes_X[-20:]\n",
    "\n",
    "# Split the targets into training/testing sets\n",
    "diabetes_y_train = diabetes_y[:-20]\n",
    "diabetes_y_test = diabetes_y[-20:]\n",
    "\n",
    "# Create linear regression object\n",
    "regr = linear_model.LinearRegression()\n",
    "\n",
    "# Train the model using the training sets\n",
    "regr.fit(diabetes_X_train, diabetes_y_train)\n",
    "\n",
    "# Make predictions using the testing set\n",
    "diabetes_y_pred = regr.predict(diabetes_X_test)\n",
    "\n",
    "# The coefficients\n",
    "print('Coefficients: \\n', regr.coef_)\n",
    "# The mean squared error\n",
    "print('Mean squared error: %.2f'\n",
    "      % mean_squared_error(diabetes_y_test, diabetes_y_pred))\n",
    "# The coefficient of determination: 1 is perfect prediction\n",
    "print('Coefficient of determination: %.2f'\n",
    "      % r2_score(diabetes_y_test, diabetes_y_pred))\n",
    "\n",
    "# Plot outputs\n",
    "plt.scatter(diabetes_X_test, diabetes_y_test,  color='black')\n",
    "plt.plot(diabetes_X_test, diabetes_y_pred, color='blue', linewidth=3)\n",
    "\n",
    "plt.xticks(())\n",
    "plt.yticks(())\n",
    "\n",
    "plt.show()"
   ]
  },
  {
   "cell_type": "code",
   "execution_count": null,
   "metadata": {},
   "outputs": [],
   "source": []
  }
 ],
 "metadata": {
  "kernelspec": {
   "display_name": "Python 3",
   "language": "python",
   "name": "python3"
  },
  "language_info": {
   "codemirror_mode": {
    "name": "ipython",
    "version": 3
   },
   "file_extension": ".py",
   "mimetype": "text/x-python",
   "name": "python",
   "nbconvert_exporter": "python",
   "pygments_lexer": "ipython3",
   "version": "3.7.4"
  }
 },
 "nbformat": 4,
 "nbformat_minor": 2
}
